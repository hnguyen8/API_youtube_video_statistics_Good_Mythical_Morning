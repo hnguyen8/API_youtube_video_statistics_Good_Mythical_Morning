{
  "nbformat": 4,
  "nbformat_minor": 0,
  "metadata": {
    "colab": {
      "provenance": [],
      "authorship_tag": "ABX9TyPTskhC/aMmrrX5HK6oQZWo",
      "include_colab_link": true
    },
    "kernelspec": {
      "name": "python3",
      "display_name": "Python 3"
    },
    "language_info": {
      "name": "python"
    }
  },
  "cells": [
    {
      "cell_type": "markdown",
      "metadata": {
        "id": "view-in-github",
        "colab_type": "text"
      },
      "source": [
        "<a href=\"https://colab.research.google.com/github/hnguyen8/get_video_statistics_from_Good_Mythical_Morning/blob/main/get_data_API.ipynb\" target=\"_parent\"><img src=\"https://colab.research.google.com/assets/colab-badge.svg\" alt=\"Open In Colab\"/></a>"
      ]
    },
    {
      "cell_type": "code",
      "execution_count": 1,
      "metadata": {
        "id": "yepGHfMlRdcy"
      },
      "outputs": [],
      "source": [
        "# libraries\n",
        "import requests  # can make API calls, works with all APIs\n",
        "import pandas as pd\n",
        "import time"
      ]
    },
    {
      "cell_type": "code",
      "source": [
        "# Keys\n",
        "API_KEYS = 'xxxxx'\n",
        "CHANNEL_ID = 'xxxxx'"
      ],
      "metadata": {
        "id": "6mXlibHIRzuL"
      },
      "execution_count": 38,
      "outputs": []
    },
    {
      "cell_type": "code",
      "source": [
        "# collect video counts\n",
        "url_channel_stat = 'https://www.googleapis.com/youtube/v3/channels?part=statistics&id='+CHANNEL_ID+'&key='+API_KEYS\n",
        "response_channel_stats = requests.get(url_channel_stat).json()"
      ],
      "metadata": {
        "id": "WrnjQb5rlQRS"
      },
      "execution_count": null,
      "outputs": []
    },
    {
      "cell_type": "code",
      "source": [
        "video_count = response_channel_stats['items'][0]['statistics']['videoCount']\n",
        "video_count"
      ],
      "metadata": {
        "colab": {
          "base_uri": "https://localhost:8080/",
          "height": 38
        },
        "id": "nkObDomyn0xj",
        "outputId": "3dbebbe9-b5a1-43cc-a1c3-35c258160c8a"
      },
      "execution_count": 58,
      "outputs": [
        {
          "output_type": "execute_result",
          "data": {
            "text/plain": [
              "'3031'"
            ],
            "application/vnd.google.colaboratory.intrinsic+json": {
              "type": "string"
            }
          },
          "metadata": {},
          "execution_count": 58
        }
      ]
    },
    {
      "cell_type": "code",
      "source": [
        "def get_video_details(video_id):\n",
        "  # collect view, like, favorite, comment counts\n",
        "  # Reference: https://developers.google.com/youtube/v3/docs/videos\n",
        "  url_video_stat = 'https://www.googleapis.com/youtube/v3/videos?id='+video_id+'&part=statistics&key='+API_KEYS\n",
        "  response_video_stats = requests.get(url_video_stat).json()\n",
        "  \n",
        "  view_count = response_video_stats['items'][0]['statistics']['viewCount']\n",
        "  like_count = response_video_stats['items'][0]['statistics']['likeCount']\n",
        "  favorite_count = response_video_stats['items'][0]['statistics']['favoriteCount']\n",
        "  comment_count =response_video_stats['items'][0]['statistics']['commentCount']\n",
        "\n",
        "  return view_count, like_count, favorite_count, comment_count"
      ],
      "metadata": {
        "id": "XdLZZS6bhqva"
      },
      "execution_count": 59,
      "outputs": []
    },
    {
      "cell_type": "code",
      "source": [
        "def get_videos(df):\n",
        "  # make API call to collect video ids and snippets\n",
        "  # Reference: https://developers.google.com/youtube/v3/docs/search\n",
        "  pageToken = ''\n",
        "  url = 'https://www.googleapis.com/youtube/v3/search?key='+API_KEYS+'&channelId='+CHANNEL_ID+'&part=snippet,id&order=date&maxResults=3032'+pageToken  # HTTP request\n",
        "\n",
        "  response = requests.get(url).json()\n",
        "  time.sleep(1) # wait 1 sec - let API call finishes\n",
        "\n",
        "  for video in response['items']:\n",
        "    if video['id']['kind'] == 'youtube#video': # allow Youtube videos only \n",
        "      video_id = video['id']['videoId']\n",
        "      video_title = video['snippet']['title']\n",
        "      upload_date = video['snippet']['publishTime']\n",
        "      upload_date = str(upload_date).split('T')[0]   # keep only date\n",
        "\n",
        "       # call function to collect view, like, favorite, comment counts\n",
        "      view_count, like_count, favorite_count, comment_count = get_video_details(video_id)\n",
        "\n",
        "      # save into pandas dataframe \n",
        "      df = df.append({ 'video_id':video_id , 'video_title':video_title, 'upload_date':upload_date, 'view_count': view_count, 'like_count': like_count,\n",
        "                      'favorite_count': favorite_count, 'comment_count': comment_count }, ignore_index= True )\n",
        "  return df"
      ],
      "metadata": {
        "id": "H075g1quak_Z"
      },
      "execution_count": 60,
      "outputs": []
    },
    {
      "cell_type": "code",
      "source": [
        "# build blank dataframe\n",
        "df = pd.DataFrame(columns = ['video_id', 'video_title', 'upload_date', 'view_count', 'like_count', 'favorite_count', 'comment_count'])\n",
        "\n",
        "##\n",
        "df = get_videos(df) "
      ],
      "metadata": {
        "id": "tnOYQXlBgCuP"
      },
      "execution_count": 61,
      "outputs": []
    },
    {
      "cell_type": "code",
      "source": [
        "df.head()"
      ],
      "metadata": {
        "colab": {
          "base_uri": "https://localhost:8080/",
          "height": 206
        },
        "id": "tvl6Zf1-hZI2",
        "outputId": "de7fc96f-0755-4120-e633-eb891e493130"
      },
      "execution_count": 62,
      "outputs": [
        {
          "output_type": "execute_result",
          "data": {
            "text/plain": [
              "      video_id                                video_title upload_date  \\\n",
              "0  w42iXLlQK1Q          What Snacks Go Stale The Fastest?  2022-10-21   \n",
              "1  BH8_FkQ3ct4   Who Can Start A Fire Faster? (Challenge)  2022-10-20   \n",
              "2  c4EUhTEojxo                   Exotic Fruits Taste Test  2022-10-19   \n",
              "3  LZZbg9AVtzs              Testing Discontinued Products  2022-10-18   \n",
              "4  g_1vhq8nMA4  Frozen vs. Fast vs. Fancy Food Taste Test  2022-10-17   \n",
              "\n",
              "  view_count like_count favorite_count comment_count  \n",
              "0     231166      13004              0           605  \n",
              "1     632972      25607              0          1346  \n",
              "2     933478      31011              0          1848  \n",
              "3     714025      24574              0          1032  \n",
              "4    1224218      39625              0          1721  "
            ],
            "text/html": [
              "\n",
              "  <div id=\"df-7c27162b-2916-4b88-8331-cace22ba99eb\">\n",
              "    <div class=\"colab-df-container\">\n",
              "      <div>\n",
              "<style scoped>\n",
              "    .dataframe tbody tr th:only-of-type {\n",
              "        vertical-align: middle;\n",
              "    }\n",
              "\n",
              "    .dataframe tbody tr th {\n",
              "        vertical-align: top;\n",
              "    }\n",
              "\n",
              "    .dataframe thead th {\n",
              "        text-align: right;\n",
              "    }\n",
              "</style>\n",
              "<table border=\"1\" class=\"dataframe\">\n",
              "  <thead>\n",
              "    <tr style=\"text-align: right;\">\n",
              "      <th></th>\n",
              "      <th>video_id</th>\n",
              "      <th>video_title</th>\n",
              "      <th>upload_date</th>\n",
              "      <th>view_count</th>\n",
              "      <th>like_count</th>\n",
              "      <th>favorite_count</th>\n",
              "      <th>comment_count</th>\n",
              "    </tr>\n",
              "  </thead>\n",
              "  <tbody>\n",
              "    <tr>\n",
              "      <th>0</th>\n",
              "      <td>w42iXLlQK1Q</td>\n",
              "      <td>What Snacks Go Stale The Fastest?</td>\n",
              "      <td>2022-10-21</td>\n",
              "      <td>231166</td>\n",
              "      <td>13004</td>\n",
              "      <td>0</td>\n",
              "      <td>605</td>\n",
              "    </tr>\n",
              "    <tr>\n",
              "      <th>1</th>\n",
              "      <td>BH8_FkQ3ct4</td>\n",
              "      <td>Who Can Start A Fire Faster? (Challenge)</td>\n",
              "      <td>2022-10-20</td>\n",
              "      <td>632972</td>\n",
              "      <td>25607</td>\n",
              "      <td>0</td>\n",
              "      <td>1346</td>\n",
              "    </tr>\n",
              "    <tr>\n",
              "      <th>2</th>\n",
              "      <td>c4EUhTEojxo</td>\n",
              "      <td>Exotic Fruits Taste Test</td>\n",
              "      <td>2022-10-19</td>\n",
              "      <td>933478</td>\n",
              "      <td>31011</td>\n",
              "      <td>0</td>\n",
              "      <td>1848</td>\n",
              "    </tr>\n",
              "    <tr>\n",
              "      <th>3</th>\n",
              "      <td>LZZbg9AVtzs</td>\n",
              "      <td>Testing Discontinued Products</td>\n",
              "      <td>2022-10-18</td>\n",
              "      <td>714025</td>\n",
              "      <td>24574</td>\n",
              "      <td>0</td>\n",
              "      <td>1032</td>\n",
              "    </tr>\n",
              "    <tr>\n",
              "      <th>4</th>\n",
              "      <td>g_1vhq8nMA4</td>\n",
              "      <td>Frozen vs. Fast vs. Fancy Food Taste Test</td>\n",
              "      <td>2022-10-17</td>\n",
              "      <td>1224218</td>\n",
              "      <td>39625</td>\n",
              "      <td>0</td>\n",
              "      <td>1721</td>\n",
              "    </tr>\n",
              "  </tbody>\n",
              "</table>\n",
              "</div>\n",
              "      <button class=\"colab-df-convert\" onclick=\"convertToInteractive('df-7c27162b-2916-4b88-8331-cace22ba99eb')\"\n",
              "              title=\"Convert this dataframe to an interactive table.\"\n",
              "              style=\"display:none;\">\n",
              "        \n",
              "  <svg xmlns=\"http://www.w3.org/2000/svg\" height=\"24px\"viewBox=\"0 0 24 24\"\n",
              "       width=\"24px\">\n",
              "    <path d=\"M0 0h24v24H0V0z\" fill=\"none\"/>\n",
              "    <path d=\"M18.56 5.44l.94 2.06.94-2.06 2.06-.94-2.06-.94-.94-2.06-.94 2.06-2.06.94zm-11 1L8.5 8.5l.94-2.06 2.06-.94-2.06-.94L8.5 2.5l-.94 2.06-2.06.94zm10 10l.94 2.06.94-2.06 2.06-.94-2.06-.94-.94-2.06-.94 2.06-2.06.94z\"/><path d=\"M17.41 7.96l-1.37-1.37c-.4-.4-.92-.59-1.43-.59-.52 0-1.04.2-1.43.59L10.3 9.45l-7.72 7.72c-.78.78-.78 2.05 0 2.83L4 21.41c.39.39.9.59 1.41.59.51 0 1.02-.2 1.41-.59l7.78-7.78 2.81-2.81c.8-.78.8-2.07 0-2.86zM5.41 20L4 18.59l7.72-7.72 1.47 1.35L5.41 20z\"/>\n",
              "  </svg>\n",
              "      </button>\n",
              "      \n",
              "  <style>\n",
              "    .colab-df-container {\n",
              "      display:flex;\n",
              "      flex-wrap:wrap;\n",
              "      gap: 12px;\n",
              "    }\n",
              "\n",
              "    .colab-df-convert {\n",
              "      background-color: #E8F0FE;\n",
              "      border: none;\n",
              "      border-radius: 50%;\n",
              "      cursor: pointer;\n",
              "      display: none;\n",
              "      fill: #1967D2;\n",
              "      height: 32px;\n",
              "      padding: 0 0 0 0;\n",
              "      width: 32px;\n",
              "    }\n",
              "\n",
              "    .colab-df-convert:hover {\n",
              "      background-color: #E2EBFA;\n",
              "      box-shadow: 0px 1px 2px rgba(60, 64, 67, 0.3), 0px 1px 3px 1px rgba(60, 64, 67, 0.15);\n",
              "      fill: #174EA6;\n",
              "    }\n",
              "\n",
              "    [theme=dark] .colab-df-convert {\n",
              "      background-color: #3B4455;\n",
              "      fill: #D2E3FC;\n",
              "    }\n",
              "\n",
              "    [theme=dark] .colab-df-convert:hover {\n",
              "      background-color: #434B5C;\n",
              "      box-shadow: 0px 1px 3px 1px rgba(0, 0, 0, 0.15);\n",
              "      filter: drop-shadow(0px 1px 2px rgba(0, 0, 0, 0.3));\n",
              "      fill: #FFFFFF;\n",
              "    }\n",
              "  </style>\n",
              "\n",
              "      <script>\n",
              "        const buttonEl =\n",
              "          document.querySelector('#df-7c27162b-2916-4b88-8331-cace22ba99eb button.colab-df-convert');\n",
              "        buttonEl.style.display =\n",
              "          google.colab.kernel.accessAllowed ? 'block' : 'none';\n",
              "\n",
              "        async function convertToInteractive(key) {\n",
              "          const element = document.querySelector('#df-7c27162b-2916-4b88-8331-cace22ba99eb');\n",
              "          const dataTable =\n",
              "            await google.colab.kernel.invokeFunction('convertToInteractive',\n",
              "                                                     [key], {});\n",
              "          if (!dataTable) return;\n",
              "\n",
              "          const docLinkHtml = 'Like what you see? Visit the ' +\n",
              "            '<a target=\"_blank\" href=https://colab.research.google.com/notebooks/data_table.ipynb>data table notebook</a>'\n",
              "            + ' to learn more about interactive tables.';\n",
              "          element.innerHTML = '';\n",
              "          dataTable['output_type'] = 'display_data';\n",
              "          await google.colab.output.renderOutput(dataTable, element);\n",
              "          const docLink = document.createElement('div');\n",
              "          docLink.innerHTML = docLinkHtml;\n",
              "          element.appendChild(docLink);\n",
              "        }\n",
              "      </script>\n",
              "    </div>\n",
              "  </div>\n",
              "  "
            ]
          },
          "metadata": {},
          "execution_count": 62
        }
      ]
    },
    {
      "cell_type": "code",
      "source": [
        "from google.colab import drive\n",
        "drive.mount('/content/gdrive')"
      ],
      "metadata": {
        "colab": {
          "base_uri": "https://localhost:8080/"
        },
        "id": "mNzKXUAZpYfs",
        "outputId": "71acfd7b-8a86-4108-be74-6fb796e0a899"
      },
      "execution_count": 64,
      "outputs": [
        {
          "output_type": "stream",
          "name": "stdout",
          "text": [
            "Mounted at /content/gdrive\n"
          ]
        }
      ]
    },
    {
      "cell_type": "code",
      "source": [
        "# save to csv in Drive\n",
        "df.to_csv('/content/gdrive/My Drive/DataScience/good_mythical_morning_videos.csv')"
      ],
      "metadata": {
        "id": "codoW7PHpK8z"
      },
      "execution_count": 65,
      "outputs": []
    }
  ]
}
