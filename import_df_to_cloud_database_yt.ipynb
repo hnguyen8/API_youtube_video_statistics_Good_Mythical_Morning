{
  "nbformat": 4,
  "nbformat_minor": 0,
  "metadata": {
    "colab": {
      "provenance": [],
      "collapsed_sections": [],
      "authorship_tag": "ABX9TyMUoeDwYHbhuKhsGdAhfDbI",
      "include_colab_link": true
    },
    "kernelspec": {
      "name": "python3",
      "display_name": "Python 3"
    },
    "language_info": {
      "name": "python"
    }
  },
  "cells": [
    {
      "cell_type": "markdown",
      "metadata": {
        "id": "view-in-github",
        "colab_type": "text"
      },
      "source": [
        "<a href=\"https://colab.research.google.com/github/hnguyen8/API_youtube_video_statistics_Good_Mythical_Morning/blob/main/import_df_to_cloud_database_yt.ipynb\" target=\"_parent\"><img src=\"https://colab.research.google.com/assets/colab-badge.svg\" alt=\"Open In Colab\"/></a>"
      ]
    },
    {
      "cell_type": "code",
      "execution_count": 2,
      "metadata": {
        "id": "7Ejra078kSNA"
      },
      "outputs": [],
      "source": [
        "#!pip install psycopg2\n",
        "import psycopg2 as ps\n",
        "import pandas as pd\n",
        "\n",
        "# Mount Drive to access csv file\n",
        "from google.colab import drive\n",
        "drive.mount('/content/gdrive')"
      ]
    },
    {
      "cell_type": "code",
      "source": [
        "# Read csv file\n",
        "path = '/content/gdrive/My Drive/DataScience/good_mythical_morning_videos.csv'\n",
        "\n",
        "df = pd.read_csv(path)\n",
        "df.head()"
      ],
      "metadata": {
        "colab": {
          "base_uri": "https://localhost:8080/",
          "height": 206
        },
        "id": "oAQ4Iuasnh1A",
        "outputId": "af07bffc-9200-4e3c-d384-01a9819bc5a1"
      },
      "execution_count": 91,
      "outputs": [
        {
          "output_type": "execute_result",
          "data": {
            "text/plain": [
              "   Unnamed: 0     video_id                                video_title  \\\n",
              "0           0  w42iXLlQK1Q               How Fast Do Snacks Go Stale?   \n",
              "1           1  BH8_FkQ3ct4   Who Can Start A Fire Faster? (Challenge)   \n",
              "2           2  c4EUhTEojxo                   Exotic Fruits Taste Test   \n",
              "3           3  LZZbg9AVtzs              Testing Discontinued Products   \n",
              "4           4  g_1vhq8nMA4  Frozen vs. Fast vs. Fancy Food Taste Test   \n",
              "\n",
              "  upload_date  view_count  like_count  favorite_count  comment_count  \n",
              "0  2022-10-21      753455       24681               0           1111  \n",
              "1  2022-10-20      710157       27646               0           1418  \n",
              "2  2022-10-19      993281       32335               0           1889  \n",
              "3  2022-10-18      743133       25272               0           1046  \n",
              "4  2022-10-17     1260719       40417               0           1717  "
            ],
            "text/html": [
              "\n",
              "  <div id=\"df-1fed9994-9122-4b43-8c95-719dc2415849\">\n",
              "    <div class=\"colab-df-container\">\n",
              "      <div>\n",
              "<style scoped>\n",
              "    .dataframe tbody tr th:only-of-type {\n",
              "        vertical-align: middle;\n",
              "    }\n",
              "\n",
              "    .dataframe tbody tr th {\n",
              "        vertical-align: top;\n",
              "    }\n",
              "\n",
              "    .dataframe thead th {\n",
              "        text-align: right;\n",
              "    }\n",
              "</style>\n",
              "<table border=\"1\" class=\"dataframe\">\n",
              "  <thead>\n",
              "    <tr style=\"text-align: right;\">\n",
              "      <th></th>\n",
              "      <th>Unnamed: 0</th>\n",
              "      <th>video_id</th>\n",
              "      <th>video_title</th>\n",
              "      <th>upload_date</th>\n",
              "      <th>view_count</th>\n",
              "      <th>like_count</th>\n",
              "      <th>favorite_count</th>\n",
              "      <th>comment_count</th>\n",
              "    </tr>\n",
              "  </thead>\n",
              "  <tbody>\n",
              "    <tr>\n",
              "      <th>0</th>\n",
              "      <td>0</td>\n",
              "      <td>w42iXLlQK1Q</td>\n",
              "      <td>How Fast Do Snacks Go Stale?</td>\n",
              "      <td>2022-10-21</td>\n",
              "      <td>753455</td>\n",
              "      <td>24681</td>\n",
              "      <td>0</td>\n",
              "      <td>1111</td>\n",
              "    </tr>\n",
              "    <tr>\n",
              "      <th>1</th>\n",
              "      <td>1</td>\n",
              "      <td>BH8_FkQ3ct4</td>\n",
              "      <td>Who Can Start A Fire Faster? (Challenge)</td>\n",
              "      <td>2022-10-20</td>\n",
              "      <td>710157</td>\n",
              "      <td>27646</td>\n",
              "      <td>0</td>\n",
              "      <td>1418</td>\n",
              "    </tr>\n",
              "    <tr>\n",
              "      <th>2</th>\n",
              "      <td>2</td>\n",
              "      <td>c4EUhTEojxo</td>\n",
              "      <td>Exotic Fruits Taste Test</td>\n",
              "      <td>2022-10-19</td>\n",
              "      <td>993281</td>\n",
              "      <td>32335</td>\n",
              "      <td>0</td>\n",
              "      <td>1889</td>\n",
              "    </tr>\n",
              "    <tr>\n",
              "      <th>3</th>\n",
              "      <td>3</td>\n",
              "      <td>LZZbg9AVtzs</td>\n",
              "      <td>Testing Discontinued Products</td>\n",
              "      <td>2022-10-18</td>\n",
              "      <td>743133</td>\n",
              "      <td>25272</td>\n",
              "      <td>0</td>\n",
              "      <td>1046</td>\n",
              "    </tr>\n",
              "    <tr>\n",
              "      <th>4</th>\n",
              "      <td>4</td>\n",
              "      <td>g_1vhq8nMA4</td>\n",
              "      <td>Frozen vs. Fast vs. Fancy Food Taste Test</td>\n",
              "      <td>2022-10-17</td>\n",
              "      <td>1260719</td>\n",
              "      <td>40417</td>\n",
              "      <td>0</td>\n",
              "      <td>1717</td>\n",
              "    </tr>\n",
              "  </tbody>\n",
              "</table>\n",
              "</div>\n",
              "      <button class=\"colab-df-convert\" onclick=\"convertToInteractive('df-1fed9994-9122-4b43-8c95-719dc2415849')\"\n",
              "              title=\"Convert this dataframe to an interactive table.\"\n",
              "              style=\"display:none;\">\n",
              "        \n",
              "  <svg xmlns=\"http://www.w3.org/2000/svg\" height=\"24px\"viewBox=\"0 0 24 24\"\n",
              "       width=\"24px\">\n",
              "    <path d=\"M0 0h24v24H0V0z\" fill=\"none\"/>\n",
              "    <path d=\"M18.56 5.44l.94 2.06.94-2.06 2.06-.94-2.06-.94-.94-2.06-.94 2.06-2.06.94zm-11 1L8.5 8.5l.94-2.06 2.06-.94-2.06-.94L8.5 2.5l-.94 2.06-2.06.94zm10 10l.94 2.06.94-2.06 2.06-.94-2.06-.94-.94-2.06-.94 2.06-2.06.94z\"/><path d=\"M17.41 7.96l-1.37-1.37c-.4-.4-.92-.59-1.43-.59-.52 0-1.04.2-1.43.59L10.3 9.45l-7.72 7.72c-.78.78-.78 2.05 0 2.83L4 21.41c.39.39.9.59 1.41.59.51 0 1.02-.2 1.41-.59l7.78-7.78 2.81-2.81c.8-.78.8-2.07 0-2.86zM5.41 20L4 18.59l7.72-7.72 1.47 1.35L5.41 20z\"/>\n",
              "  </svg>\n",
              "      </button>\n",
              "      \n",
              "  <style>\n",
              "    .colab-df-container {\n",
              "      display:flex;\n",
              "      flex-wrap:wrap;\n",
              "      gap: 12px;\n",
              "    }\n",
              "\n",
              "    .colab-df-convert {\n",
              "      background-color: #E8F0FE;\n",
              "      border: none;\n",
              "      border-radius: 50%;\n",
              "      cursor: pointer;\n",
              "      display: none;\n",
              "      fill: #1967D2;\n",
              "      height: 32px;\n",
              "      padding: 0 0 0 0;\n",
              "      width: 32px;\n",
              "    }\n",
              "\n",
              "    .colab-df-convert:hover {\n",
              "      background-color: #E2EBFA;\n",
              "      box-shadow: 0px 1px 2px rgba(60, 64, 67, 0.3), 0px 1px 3px 1px rgba(60, 64, 67, 0.15);\n",
              "      fill: #174EA6;\n",
              "    }\n",
              "\n",
              "    [theme=dark] .colab-df-convert {\n",
              "      background-color: #3B4455;\n",
              "      fill: #D2E3FC;\n",
              "    }\n",
              "\n",
              "    [theme=dark] .colab-df-convert:hover {\n",
              "      background-color: #434B5C;\n",
              "      box-shadow: 0px 1px 3px 1px rgba(0, 0, 0, 0.15);\n",
              "      filter: drop-shadow(0px 1px 2px rgba(0, 0, 0, 0.3));\n",
              "      fill: #FFFFFF;\n",
              "    }\n",
              "  </style>\n",
              "\n",
              "      <script>\n",
              "        const buttonEl =\n",
              "          document.querySelector('#df-1fed9994-9122-4b43-8c95-719dc2415849 button.colab-df-convert');\n",
              "        buttonEl.style.display =\n",
              "          google.colab.kernel.accessAllowed ? 'block' : 'none';\n",
              "\n",
              "        async function convertToInteractive(key) {\n",
              "          const element = document.querySelector('#df-1fed9994-9122-4b43-8c95-719dc2415849');\n",
              "          const dataTable =\n",
              "            await google.colab.kernel.invokeFunction('convertToInteractive',\n",
              "                                                     [key], {});\n",
              "          if (!dataTable) return;\n",
              "\n",
              "          const docLinkHtml = 'Like what you see? Visit the ' +\n",
              "            '<a target=\"_blank\" href=https://colab.research.google.com/notebooks/data_table.ipynb>data table notebook</a>'\n",
              "            + ' to learn more about interactive tables.';\n",
              "          element.innerHTML = '';\n",
              "          dataTable['output_type'] = 'display_data';\n",
              "          await google.colab.output.renderOutput(dataTable, element);\n",
              "          const docLink = document.createElement('div');\n",
              "          docLink.innerHTML = docLinkHtml;\n",
              "          element.appendChild(docLink);\n",
              "        }\n",
              "      </script>\n",
              "    </div>\n",
              "  </div>\n",
              "  "
            ]
          },
          "metadata": {},
          "execution_count": 91
        }
      ]
    },
    {
      "cell_type": "markdown",
      "source": [
        "Define necessary functions"
      ],
      "metadata": {
        "id": "Gw0AVSlyaQa0"
      }
    },
    {
      "cell_type": "code",
      "source": [
        "def connect_to_db(host_name, dbname, port, username, password):\n",
        "    try:\n",
        "        conn = ps.connect(host=host_name, database=dbname, user=username, password=password, port=port)\n",
        "\n",
        "    except ps.OperationalError as e:\n",
        "        raise e\n",
        "    else:\n",
        "        print('Connected!')\n",
        "        return conn"
      ],
      "metadata": {
        "id": "x75cKtjXntZ_"
      },
      "execution_count": 25,
      "outputs": []
    },
    {
      "cell_type": "code",
      "source": [
        "## Create table\n",
        "def create_table(curr):\n",
        "  create_table_command = (\n",
        "      \"\"\"CREATE TABLE IF NOT EXISTS videos(\n",
        "        video_id VARCHAR(255) PRIMARY KEY,\n",
        "        video_title TEXT NOT NULL,\n",
        "        upload_date DATE NOT NULL DEFAULT CURRENT_DATE,\n",
        "        view_count INTEGER NOT NULL,\n",
        "        like_count INTEGER NOT NULL,\n",
        "        favorite_count INTEGER NOT NULL,\n",
        "        comment_count INTEGER NOT NULL\n",
        "      );\n",
        "      \"\"\" )\n",
        "  curr.execute(create_table_command)"
      ],
      "metadata": {
        "id": "C5jHDSSqntcT"
      },
      "execution_count": 83,
      "outputs": []
    },
    {
      "cell_type": "code",
      "source": [
        "# function to check if a video already exists\n",
        "def check_if_video_exists(curr,video_id):\n",
        "  query = (\"\"\" SELECT video_id FROM videos WHERE video_id = %s \"\"\")\n",
        "  curr.execute(query, (video_id,))\n",
        "\n",
        "  return curr.fetchone() is not None"
      ],
      "metadata": {
        "id": "OlP6sAmPntex"
      },
      "execution_count": 86,
      "outputs": []
    },
    {
      "cell_type": "code",
      "source": [
        "# function to update counts for an existing video\n",
        "def update_row(curr,video_id, video_title, upload_date, view_count, like_count, favorite_count, comment_count):\n",
        "  query = (\"\"\" UPDATE videos\n",
        "              SET \n",
        "                  video_title = %s,\n",
        "                  upload_date = %s,\n",
        "                  view_count = %s,\n",
        "                  like_count = %s,\n",
        "                  favorite_count = %s,\n",
        "                  comment_count = %s\n",
        "              WHERE video_id = %s;\n",
        "          \"\"\")\n",
        "  vars_to_update = (video_title, upload_date, view_count, like_count, favorite_count, comment_count,video_id)\n",
        "  curr.execute(query, vars_to_update)\n",
        "  "
      ],
      "metadata": {
        "id": "Unqx_CftnthM"
      },
      "execution_count": 72,
      "outputs": []
    },
    {
      "cell_type": "code",
      "source": [
        "def update_db(curr, df):\n",
        "  tmp_df = pd.DataFrame(columns = ['video_id', 'video_title','upload_date', \n",
        "                                  'view_count', 'like_count', 'favorite_count', 'comment_count'])\n",
        "\n",
        "  for i, row in df.iterrows():\n",
        "    if check_if_video_exists(curr,row['video_id']): # video exists, update new counts for view, like...\n",
        "      update_row(curr,row['video_id'], row['video_title'], row['upload_date'], row['view_count'], row['like_count'], row['favorite_count'], row['comment_count'])\n",
        "    else:     # The video doesn't exist, we append to df table.\n",
        "      tmp_df = tmp_df.append(row)\n",
        "  return tmp_df"
      ],
      "metadata": {
        "id": "Mar9MsxqMuBk"
      },
      "execution_count": 73,
      "outputs": []
    },
    {
      "cell_type": "code",
      "source": [
        "## insert command \n",
        "def insert_into_table(curr, video_id, video_title, upload_date, view_count, like_count, favorite_count, comment_count):\n",
        "  insert_into_videos = (\"\"\" INSERT INTO videos (video_id, video_title, upload_date, view_count, like_count, favorite_count, comment_count)\n",
        "                            VALUES (%s, %s, %s, %s, %s, %s, %s); \"\"\")\n",
        "  row_to_insert = (video_id, video_title, upload_date, view_count, like_count, favorite_count, comment_count)\n",
        "  curr.execute(insert_into_videos, row_to_insert)"
      ],
      "metadata": {
        "id": "zGZ8Dv11U50i"
      },
      "execution_count": 74,
      "outputs": []
    },
    {
      "cell_type": "code",
      "source": [
        "def append_from_df_to_db(curr, df):\n",
        "  for i, row in df.iterrows():\n",
        "    insert_into_table(curr, row['video_id'], row['video_title'], row['upload_date'], row['view_count'], row['like_count'], row['favorite_count'], row['comment_count'])\n"
      ],
      "metadata": {
        "id": "vJ3t4xiFXJVx"
      },
      "execution_count": 75,
      "outputs": []
    },
    {
      "cell_type": "markdown",
      "source": [
        "Main execution"
      ],
      "metadata": {
        "id": "MPtbITHqajbL"
      }
    },
    {
      "cell_type": "code",
      "source": [
        "## Connect to AWS Postgres database \n",
        "\n",
        "host_name = 'xxx'\n",
        "dbname = 'xxx'\n",
        "port = 'xxx'\n",
        "username = 'xxx' \n",
        "password =  'xxx'\n",
        "conn = None\n",
        "\n",
        "## Make sure on AWS: \n",
        "## Publicly accessible\n",
        "## EC2: Create new security group Inbound for 'all traffic' 'anywhere..'\n",
        "## Modify database: change to new security group\n",
        "conn = connect_to_db(host_name, dbname,port, username, password)"
      ],
      "metadata": {
        "colab": {
          "base_uri": "https://localhost:8080/"
        },
        "id": "WTDzBcnGntXn",
        "outputId": "c8d1385d-946a-47dd-826b-7111c0d6870c"
      },
      "execution_count": 82,
      "outputs": [
        {
          "output_type": "stream",
          "name": "stdout",
          "text": [
            "Connected!\n"
          ]
        }
      ]
    },
    {
      "cell_type": "code",
      "source": [
        "## Create the cursor object\n",
        "curr = conn.cursor()\n",
        "## excecute sql command to create table\n",
        "create_table(curr)  # if table already exists, this will do nothing\n",
        "## commit changes\n",
        "conn.commit()"
      ],
      "metadata": {
        "id": "IG4Ra3TgMc_2"
      },
      "execution_count": 84,
      "outputs": []
    },
    {
      "cell_type": "code",
      "source": [
        "## Create temporary dataframe holding new rows (new videos), at the same time update cloud dataframe (exisiting videos) \n",
        "new_vid_df = update_db(curr, df)\n",
        "new_vid_df.head()"
      ],
      "metadata": {
        "id": "z6h96HrDUWCW"
      },
      "execution_count": 87,
      "outputs": []
    },
    {
      "cell_type": "code",
      "source": [
        "## Append temporary dataframe (new videos) to cloud dataframe (exisiting videos) \n",
        "append_from_df_to_db(curr,new_vid_df)"
      ],
      "metadata": {
        "id": "OvQda8-pX6wr"
      },
      "execution_count": 88,
      "outputs": []
    },
    {
      "cell_type": "code",
      "source": [
        "## Commit all changes\n",
        "conn.commit()"
      ],
      "metadata": {
        "id": "6UIKaURXU1m1"
      },
      "execution_count": 89,
      "outputs": []
    },
    {
      "cell_type": "code",
      "source": [
        "## Close the connection to AWS\n",
        "conn.close()"
      ],
      "metadata": {
        "id": "cA6x___Qbrzk"
      },
      "execution_count": 92,
      "outputs": []
    }
  ]
}